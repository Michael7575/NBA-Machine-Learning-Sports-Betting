{
 "cells": [
  {
   "cell_type": "code",
   "execution_count": 26,
   "metadata": {},
   "outputs": [],
   "source": [
    "import argparse\n",
    "import pandas as pd\n",
    "from src.Utils.Dictionaries import team_index_current\n",
    "from src.Utils.tools import get_json_data, to_data_frame, get_todays_games_json, create_todays_games\n",
    "from colorama import Fore, Style, init, deinit\n",
    "from datetime import datetime\n",
    "from sqlalchemy import create_engine\n",
    "from bs4 import BeautifulSoup\n",
    "import urllib.request\n",
    "import re\n",
    "\n",
    "\n",
    "\n",
    "from pycaret.classification import *"
   ]
  },
  {
   "cell_type": "code",
   "execution_count": 2,
   "metadata": {},
   "outputs": [],
   "source": [
    "%load_ext autoreload\n",
    "%autoreload 2"
   ]
  },
  {
   "cell_type": "code",
   "execution_count": 3,
   "metadata": {},
   "outputs": [],
   "source": [
    "todays_games_url = 'https://data.nba.com/data/10s/v2015/json/mobile_teams/nba/2021/scores/00_todays_scores.json'\n",
    "data_url = 'https://stats.nba.com/stats/leaguedashteamstats?' \\\n",
    "           'Conference=&DateFrom=&DateTo=&Division=&GameScope=&' \\\n",
    "           'GameSegment=&LastNGames=0&LeagueID=00&Location=&' \\\n",
    "           'MeasureType=Base&Month=0&OpponentTeamID=0&Outcome=&' \\\n",
    "           'PORound=0&PaceAdjust=N&PerMode=PerGame&Period=0&' \\\n",
    "           'PlayerExperience=&PlayerPosition=&PlusMinus=N&Rank=N&' \\\n",
    "           'Season=2021-22&SeasonSegment=&SeasonType=Regular+Season&ShotClockRange=&' \\\n",
    "           'StarterBench=&TeamID=0&TwoWay=0&VsConference=&VsDivision='"
   ]
  },
  {
   "cell_type": "code",
   "execution_count": 4,
   "metadata": {},
   "outputs": [],
   "source": [
    "def expected_value(Pwin, odds):\n",
    "    \"\"\"\n",
    "    In betting, the expected value (EV) is the measure of what a bettor \n",
    "    can expect to win or lose per bet placed on the same odds time and time again. \n",
    "    Positive expected value (+EV) implies profit over time, \n",
    "    while a negative value (-EV) implies a loss over time.\n",
    "    \n",
    "    \"\"\"\n",
    "    Ploss = 1 - Pwin\n",
    "    Mwin = payout(odds)\n",
    "    return round((Pwin * Mwin) - (Ploss * 100), 2)\n",
    "\n",
    "\n",
    "def payout(odds):\n",
    "    if odds > 0:\n",
    "        return odds\n",
    "    else:\n",
    "        return (100 / (-1 * odds)) * 100"
   ]
  },
  {
   "cell_type": "code",
   "execution_count": 5,
   "metadata": {},
   "outputs": [],
   "source": [
    "def compile_prediction_data(games, team_stats_df, ml_odds_list, ou_spread_list):\n",
    "    \n",
    "    team_stats_dicts = team_stats_df.to_dict(orient='records')\n",
    "\n",
    "    todays_game_dicts=[]\n",
    "\n",
    "    for game in games:\n",
    "        home_team=game['home_team']\n",
    "        away_team=game['away_team']\n",
    "        date=game['date']\n",
    "\n",
    "        # Filter for betting values\n",
    "        ou_dict=[dic for dic in ou_spread_list if (dic['home'] in home_team or dic['away'] in away_team) and dic['date'] in date][0]\n",
    "        ml_dict=[dic for dic in ml_odds_list if (dic['home'] in home_team or dic['away'] in away_team) and dic['date'] in date][0]\n",
    "\n",
    "        ou=ou_dict['over_under']\n",
    "        spread=ou_dict['spread']\n",
    "        ml_home=ml_dict['home_odds']\n",
    "        ml_away=ml_dict['away_odds']\n",
    "\n",
    "        #Team info dict\n",
    "        team_info_dict={\n",
    "            'date': game['date'],\n",
    "            'home': home_team,\n",
    "            'away': away_team,\n",
    "            'ou': ou,\n",
    "            'spread': spread,\n",
    "            'ml_home': ml_home,\n",
    "            'ml_away': ml_away            \n",
    "\n",
    "        }\n",
    "\n",
    "        #Get stats\n",
    "        home_team_stats_list=[dic for dic in team_stats_dicts if dic['TEAM_NAME']==home_team]\n",
    "        away_team_stats_list=[dic for dic in team_stats_dicts if dic['TEAM_NAME']==away_team]\n",
    "\n",
    "        #Filter for stats\n",
    "        home_team_stats_dict={k+'_HOME': v for k, v in home_team_stats_list[0].items() if k not in ['TEAM_ID', 'CFID', 'CFPARAMS']}\n",
    "        away_team_stats_dict={k+'_AWAY': v for k, v in away_team_stats_list[0].items() if k not in ['TEAM_ID', 'CFID', 'CFPARAMS']}\n",
    "\n",
    "        #Combine stats and odds\n",
    "        team_result_dict = {**team_info_dict, **home_team_stats_dict, **away_team_stats_dict}\n",
    "\n",
    "        todays_game_dicts.append(team_result_dict)\n",
    "\n",
    "    return todays_game_dicts"
   ]
  },
  {
   "cell_type": "code",
   "execution_count": 6,
   "metadata": {},
   "outputs": [],
   "source": [
    "def get_expected_values(pred_df):\n",
    "    \n",
    "    pred_dict = pred_df.to_dict(orient='records')\n",
    "    \n",
    "    for game in pred_dict:\n",
    "\n",
    "        Pwin_home = round(game['Score_W'],4)\n",
    "        Pwin_away = round(game['Score_L'],4)\n",
    "\n",
    "        odds_home = int(game['ml_home'])\n",
    "        odds_away = int(game['ml_away'])\n",
    "\n",
    "        home_team_ev = expected_value(Pwin_home, odds_home)\n",
    "        away_team_ev = expected_value(Pwin_away, odds_away)\n",
    "\n",
    "        game['home_team_ml_expected_value'] = home_team_ev\n",
    "        game['away_team_ml_expected_value'] = away_team_ev\n",
    "        \n",
    "    return pred_dict"
   ]
  },
  {
   "cell_type": "code",
   "execution_count": 7,
   "metadata": {},
   "outputs": [],
   "source": [
    "def scrap_todays_ml_odds():\n",
    "    \n",
    "    url=\"https://www.vegasinsider.com/nba/odds/las-vegas/money/\"\n",
    "    \n",
    "    page = urllib.request.urlopen(url)\n",
    "\n",
    "    soup = BeautifulSoup(page, 'html.parser')\n",
    "    \n",
    "    odds_table_container = soup.find_all(\"table\", class_=\"frodds-data-tbl\")\n",
    "    game_regex = re.compile('viCellBg')\n",
    "\n",
    "    game_odds_list=[]\n",
    "    for game_container in odds_table_container[0].findAll(\"tr\", class_=game_regex):\n",
    "\n",
    "        game_dict={}\n",
    "\n",
    "        dt_str=game_container.findAll(\"span\", class_=\"cellTextHot\")[0].text\n",
    "\n",
    "        month = dt_str[:2]\n",
    "        day = dt_str[3:5]\n",
    "        year = datetime.today().year\n",
    "        time_str = dt_str[-8:]\n",
    "\n",
    "        dt_string = f'{year}-{month}-{day} {time_str}'\n",
    "        timestamp = datetime.strptime(dt_string, \"%Y-%m-%d %I:%M %p\")\n",
    "\n",
    "        game_dict['date'] = dt_string[:10]\n",
    "        game_dict['timestamp'] = timestamp\n",
    "\n",
    "        team_containers = game_container.findAll(\"a\", class_=\"tabletext\")\n",
    "        odds_containers = game_container.findAll(\"a\", class_=\"cellTextNorm\")[0].findAll('br')\n",
    "\n",
    "        home_away_str = ['away','home']\n",
    "        home_away_odds_str = ['away_odds','home_odds']\n",
    "\n",
    "        for team_container, odds_container, ha_str, hao_str in zip(team_containers, odds_containers, home_away_str, home_away_odds_str):\n",
    "\n",
    "            game_dict[ha_str] = team_container.text\n",
    "            game_dict[hao_str] = int(odds_container.nextSibling)\n",
    "\n",
    "        game_odds_list.append(game_dict)\n",
    "    \n",
    "    return game_odds_list"
   ]
  },
  {
   "cell_type": "code",
   "execution_count": 8,
   "metadata": {},
   "outputs": [],
   "source": [
    "def scrap_todays_ou_spread():\n",
    "\n",
    "    url=\"https://www.vegasinsider.com/nba/odds/las-vegas/\"\n",
    "\n",
    "    page = urllib.request.urlopen(url)\n",
    "\n",
    "    soup = BeautifulSoup(page, 'html.parser')\n",
    "\n",
    "    game_containers = soup.find_all(\"table\", class_=\"frodds-data-tbl\")\n",
    "    game_regex = re.compile('viCellBg')\n",
    "\n",
    "    spread_ou_list=[]\n",
    "    for game_container in game_containers[0].findAll(\"tr\", class_=game_regex):\n",
    "\n",
    "        game_dict={}\n",
    "\n",
    "        dt_str=game_container.findAll(\"span\", class_=\"cellTextHot\")[0].text\n",
    "\n",
    "        month = dt_str[:2]\n",
    "        day = dt_str[3:5]\n",
    "        year = datetime.today().year\n",
    "        time_str = dt_str[-8:]\n",
    "\n",
    "        dt_string = f'{year}-{month}-{day} {time_str}'\n",
    "        timestamp = datetime.strptime(dt_string, \"%Y-%m-%d %I:%M %p\")\n",
    "\n",
    "        game_dict['date'] = dt_string[:10]\n",
    "        game_dict['timestamp'] = timestamp\n",
    "\n",
    "        team_containers = game_container.findAll(\"a\", class_=\"tabletext\")\n",
    "        value_containers = game_container.findAll(\"a\", class_=\"cellTextNorm\")[0].findAll('br')\n",
    "\n",
    "        home_away_str = ['away','home']\n",
    "\n",
    "        for team_container, ha_str in zip(team_containers, home_away_str):\n",
    "\n",
    "            game_dict[ha_str] = team_container.text\n",
    "\n",
    "        str_strip = re.compile(r'[^\\d.-]+')\n",
    "\n",
    "        for value in value_containers:\n",
    "\n",
    "            bet_value = value.nextSibling\n",
    "\n",
    "            if \"½\" in bet_value:\n",
    "                bet_value=bet_value.replace(\"½\", \".5\")\n",
    "\n",
    "            # Determin if value is OU value\n",
    "            if \"u\" in bet_value:\n",
    "\n",
    "                ou_value=bet_value[:-3].replace(\"u\", \"\")\n",
    "                ou_value=str_strip.sub('', ou_value).split('-')[0]\n",
    "\n",
    "            else:\n",
    "\n",
    "                # Separate value\n",
    "                spread_value = str_strip.sub('', bet_value).split('-')[1]\n",
    "\n",
    "        game_dict['over_under']=float(ou_value)\n",
    "        game_dict['spread']=float(spread_value)\n",
    "\n",
    "        spread_ou_list.append(game_dict)\n",
    "        \n",
    "    return spread_ou_list"
   ]
  },
  {
   "cell_type": "code",
   "execution_count": 9,
   "metadata": {},
   "outputs": [],
   "source": [
    "def predict(todays_game_dicts):\n",
    "    \n",
    "    pred_df = pd.DataFrame(todays_game_dicts)\n",
    "    pred_df.columns = pred_df.columns.str.lower()\n",
    "\n",
    "    #load models\n",
    "    win_loss_model = load_model('win_loss_acc_72')\n",
    "    ou_model = load_model('ou_cover_acc_56')\n",
    "    \n",
    "    #make predictions\n",
    "    win_loss_prediction_df = predict_model(win_loss_model, data = pred_df, raw_score = True)\n",
    "    ou_prediction_df = predict_model(ou_model, data = pred_df, raw_score = True)\n",
    "    \n",
    "    #Get ML expect values\n",
    "    win_loss_results = get_expected_values(win_loss_prediction_df)\n",
    "    ou_results = ou_prediction_df.to_dict(orient='records')\n",
    "    \n",
    "    return win_loss_results, ou_results"
   ]
  },
  {
   "cell_type": "code",
   "execution_count": 10,
   "metadata": {},
   "outputs": [],
   "source": [
    "def color_selection(home_value,away_value,method='greater_less'):\n",
    "    if method=='greater_less':\n",
    "        \n",
    "        if home_value>away_value:\n",
    "            home_color=Fore.GREEN\n",
    "            away_color=Fore.RED\n",
    "        else:\n",
    "            home_color=Fore.RED\n",
    "            away_color=Fore.GREEN\n",
    "            \n",
    "        return home_color,away_color\n",
    "    \n",
    "    elif method=='positive_negative':\n",
    "        \n",
    "        if home_value>0:\n",
    "            home_color=Fore.GREEN\n",
    "        else: \n",
    "            home_color=Fore.RED\n",
    "        if away_value>0:\n",
    "            away_color=Fore.GREEN\n",
    "        else: \n",
    "            away_color=Fore.RED\n",
    "        return home_color,away_color"
   ]
  },
  {
   "cell_type": "code",
   "execution_count": 11,
   "metadata": {},
   "outputs": [],
   "source": [
    "def print_results(win_loss_results, ou_results):\n",
    "    \n",
    "    for game in win_loss_results:\n",
    "        \n",
    "        date = game['date']\n",
    "        home_team = game['home']\n",
    "        away_team = game['away']\n",
    "        home_team_ml_odds = game['ml_home']\n",
    "        away_team_ml_odds = game['ml_away']\n",
    "        ou = game['ou']\n",
    "        home_team_w_prob = round(game['Score_W']*100,4)\n",
    "        away_team_w_prob = round(game['Score_L']*100,4)\n",
    "        home_w_color,away_w_color=color_selection(home_team_w_prob,\n",
    "                                                  away_team_w_prob, \n",
    "                                                  method='greater_less')\n",
    "        \n",
    "        home_team_ml_expected_value = game['home_team_ml_expected_value']\n",
    "        away_team_ml_expected_value = game['away_team_ml_expected_value']\n",
    "        home_ev_color,away_ev_color=color_selection(home_team_ml_expected_value,\n",
    "                                                  away_team_ml_expected_value,\n",
    "                                                  method='positive_negative')\n",
    "        \n",
    "        ou_dict = [dic for dic in ou_results if dic['home']==home_team and dic['away']==away_team][0]\n",
    "        over = round(ou_dict['Score_Over']*100,4)\n",
    "        under = round(ou_dict['Score_Under']*100,4)\n",
    "        ou_color,under_color=color_selection(over,\n",
    "                                              under,\n",
    "                                              method='greater_less')\n",
    "\n",
    "        print(f'------ {date} [HOME] {Fore.BLUE }{home_team}{Style.RESET_ALL} vs. [AWAY] {Fore.MAGENTA}{away_team}{Style.RESET_ALL} ----')            \n",
    "        print(f'[ML ODDS]           {home_team} ( {home_team_ml_odds} ) | {away_team} ( {away_team_ml_odds} )')\n",
    "        print(f'[ML WIN CONFIDENCE] {home_team} ( {home_w_color}{home_team_w_prob}{Style.RESET_ALL} % ) | {away_team} ( {away_w_color}{away_team_w_prob}{Style.RESET_ALL} % )')\n",
    "        print(f'[ML EXPECTED VALUE] {home_team} ( {home_ev_color}${home_team_ml_expected_value}{Style.RESET_ALL}  ) | {away_team} ( {away_ev_color}${away_team_ml_expected_value}{Style.RESET_ALL}  )')\n",
    "        print(f'[OVER & UNDER]      OU ( {ou} ) OVER ( {ou_color}{over}{Style.RESET_ALL} % ) | UNDER ( {under_color}{under}{Style.RESET_ALL} % ) ')\n",
    "        print('')"
   ]
  },
  {
   "cell_type": "code",
   "execution_count": 33,
   "metadata": {},
   "outputs": [],
   "source": [
    "def to_pg(win_loss_results, ou_results):\n",
    "    \n",
    "    host = 'localhost'\n",
    "    user = 'postgres'\n",
    "    passwd = 4889\n",
    "    db = 'nba_betting'\n",
    "    \n",
    "    engine = create_engine('postgresql+psycopg2://{}:{}@{}/{}'.format(user, passwd, host, db), echo = False)\n",
    "    pd.DataFrame(win_loss_results).to_sql('win_loss_predictions', con=engine, if_exists = 'append', index=False)\n",
    "    pd.DataFrame(ou_results).to_sql('over_under_predictions', con=engine, if_exists = 'append', index=False)"
   ]
  },
  {
   "cell_type": "code",
   "execution_count": 12,
   "metadata": {},
   "outputs": [],
   "source": [
    "data = get_todays_games_json(todays_games_url)"
   ]
  },
  {
   "cell_type": "code",
   "execution_count": 13,
   "metadata": {},
   "outputs": [],
   "source": [
    "games = create_todays_games(data)"
   ]
  },
  {
   "cell_type": "code",
   "execution_count": 14,
   "metadata": {},
   "outputs": [],
   "source": [
    "team_stats = get_json_data(data_url)"
   ]
  },
  {
   "cell_type": "code",
   "execution_count": 15,
   "metadata": {},
   "outputs": [],
   "source": [
    "team_stats_df = to_data_frame(team_stats)"
   ]
  },
  {
   "cell_type": "code",
   "execution_count": 16,
   "metadata": {},
   "outputs": [],
   "source": [
    "ml_odds_list=scrap_todays_ml_odds()"
   ]
  },
  {
   "cell_type": "code",
   "execution_count": 17,
   "metadata": {},
   "outputs": [],
   "source": [
    "ou_spread_list=scrap_todays_ou_spread()       "
   ]
  },
  {
   "cell_type": "code",
   "execution_count": 18,
   "metadata": {},
   "outputs": [],
   "source": [
    "todays_game_dicts = compile_prediction_data(games, team_stats_df, ml_odds_list, ou_spread_list)"
   ]
  },
  {
   "cell_type": "code",
   "execution_count": 19,
   "metadata": {},
   "outputs": [
    {
     "name": "stdout",
     "output_type": "stream",
     "text": [
      "Transformation Pipeline and Model Successfully Loaded\n",
      "Transformation Pipeline and Model Successfully Loaded\n"
     ]
    }
   ],
   "source": [
    "win_loss_results, ou_results = predict(todays_game_dicts)"
   ]
  },
  {
   "cell_type": "code",
   "execution_count": 20,
   "metadata": {},
   "outputs": [
    {
     "name": "stdout",
     "output_type": "stream",
     "text": [
      "------ 2022-01-18 [HOME] \u001b[34mNew York Knicks\u001b[0m vs. [AWAY] \u001b[35mMinnesota Timberwolves\u001b[0m ----\n",
      "[ML ODDS]           New York Knicks ( 115 ) | Minnesota Timberwolves ( -135 )\n",
      "[ML WIN CONFIDENCE] New York Knicks ( \u001b[32m67.22\u001b[0m % ) | Minnesota Timberwolves ( \u001b[31m32.78\u001b[0m % )\n",
      "[ML EXPECTED VALUE] New York Knicks ( \u001b[32m$44.52\u001b[0m  ) | Minnesota Timberwolves ( \u001b[31m$-42.94\u001b[0m  )\n",
      "[OVER & UNDER]      OU ( 212.5 ) OVER ( \u001b[32m54.12\u001b[0m % ) | UNDER ( \u001b[31m44.13\u001b[0m % ) \n",
      "\n",
      "------ 2022-01-18 [HOME] \u001b[34mGolden State Warriors\u001b[0m vs. [AWAY] \u001b[35mDetroit Pistons\u001b[0m ----\n",
      "[ML ODDS]           Golden State Warriors ( -1375 ) | Detroit Pistons ( 800 )\n",
      "[ML WIN CONFIDENCE] Golden State Warriors ( \u001b[32m97.2\u001b[0m % ) | Detroit Pistons ( \u001b[31m2.8\u001b[0m % )\n",
      "[ML EXPECTED VALUE] Golden State Warriors ( \u001b[32m$4.27\u001b[0m  ) | Detroit Pistons ( \u001b[31m$-74.8\u001b[0m  )\n",
      "[OVER & UNDER]      OU ( 215.5 ) OVER ( \u001b[31m34.6\u001b[0m % ) | UNDER ( \u001b[32m65.02\u001b[0m % ) \n",
      "\n"
     ]
    }
   ],
   "source": [
    "print_results(win_loss_results, ou_results)"
   ]
  },
  {
   "cell_type": "code",
   "execution_count": null,
   "metadata": {},
   "outputs": [],
   "source": [
    "to_pg(win_loss_results, ou_results)"
   ]
  },
  {
   "cell_type": "code",
   "execution_count": null,
   "metadata": {},
   "outputs": [],
   "source": []
  }
 ],
 "metadata": {
  "kernelspec": {
   "display_name": "experiment",
   "language": "python",
   "name": "mike"
  },
  "language_info": {
   "codemirror_mode": {
    "name": "ipython",
    "version": 3
   },
   "file_extension": ".py",
   "mimetype": "text/x-python",
   "name": "python",
   "nbconvert_exporter": "python",
   "pygments_lexer": "ipython3",
   "version": "3.7.6"
  }
 },
 "nbformat": 4,
 "nbformat_minor": 4
}
