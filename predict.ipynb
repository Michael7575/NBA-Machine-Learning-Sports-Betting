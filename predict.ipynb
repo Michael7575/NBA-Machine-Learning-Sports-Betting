{
 "cells": [
  {
   "cell_type": "code",
   "execution_count": 1,
   "metadata": {},
   "outputs": [],
   "source": [
    "import argparse\n",
    "import pandas as pd\n",
    "from src.Utils.Dictionaries import team_index_current\n",
    "from src.Utils.tools import get_json_data, to_data_frame, get_todays_games_json, create_todays_games\n",
    "from colorama import Fore, Style, init, deinit\n",
    "\n",
    "from pycaret.classification import *"
   ]
  },
  {
   "cell_type": "code",
   "execution_count": 2,
   "metadata": {},
   "outputs": [],
   "source": [
    "%load_ext autoreload\n",
    "%autoreload 2"
   ]
  },
  {
   "cell_type": "code",
   "execution_count": 3,
   "metadata": {},
   "outputs": [],
   "source": [
    "todays_games_url = 'https://data.nba.com/data/10s/v2015/json/mobile_teams/nba/2021/scores/00_todays_scores.json'\n",
    "data_url = 'https://stats.nba.com/stats/leaguedashteamstats?' \\\n",
    "           'Conference=&DateFrom=&DateTo=&Division=&GameScope=&' \\\n",
    "           'GameSegment=&LastNGames=0&LeagueID=00&Location=&' \\\n",
    "           'MeasureType=Base&Month=0&OpponentTeamID=0&Outcome=&' \\\n",
    "           'PORound=0&PaceAdjust=N&PerMode=PerGame&Period=0&' \\\n",
    "           'PlayerExperience=&PlayerPosition=&PlusMinus=N&Rank=N&' \\\n",
    "           'Season=2021-22&SeasonSegment=&SeasonType=Regular+Season&ShotClockRange=&' \\\n",
    "           'StarterBench=&TeamID=0&TwoWay=0&VsConference=&VsDivision='"
   ]
  },
  {
   "cell_type": "code",
   "execution_count": 4,
   "metadata": {},
   "outputs": [],
   "source": [
    "def expected_value(Pwin, odds):\n",
    "    \"\"\"\n",
    "    In betting, the expected value (EV) is the measure of what a bettor \n",
    "    can expect to win or lose per bet placed on the same odds time and time again. \n",
    "    Positive expected value (+EV) implies profit over time, \n",
    "    while a negative value (-EV) implies a loss over time.\n",
    "    \n",
    "    \"\"\"\n",
    "    Ploss = 1 - Pwin\n",
    "    Mwin = payout(odds)\n",
    "    return round((Pwin * Mwin) - (Ploss * 100), 2)\n",
    "\n",
    "\n",
    "def payout(odds):\n",
    "    if odds > 0:\n",
    "        return odds\n",
    "    else:\n",
    "        return (100 / (-1 * odds)) * 100"
   ]
  },
  {
   "cell_type": "code",
   "execution_count": 5,
   "metadata": {},
   "outputs": [],
   "source": [
    "def createTodaysGames(games, team_stats_df):\n",
    "    \n",
    "    team_stats_dicts = team_stats_df.to_dict(orient='records')\n",
    "    \n",
    "    todays_game_dicts=[]\n",
    "    \n",
    "    for game in games:\n",
    "        home_team=game['home_team']\n",
    "        away_team=game['away_team']\n",
    "        date=game['date']\n",
    "        ou=input(f'[HOME] {home_team} vs [AWAY] {away_team} Over and Under : ')\n",
    "        spread=input(f'[HOME] {home_team} vs [AWAY] {away_team} Spread : ')\n",
    "        ml_home=input(f'[HOME] {home_team} Money Line : ')\n",
    "        ml_away=input(f'[AWAY] {away_team} Money Line : ')\n",
    "        \n",
    "        #Team info dict\n",
    "        team_info_dict={\n",
    "            'date': game['date'],\n",
    "            'home': home_team,\n",
    "            'away': away_team,\n",
    "            'ou': ou,\n",
    "            'spread': spread,\n",
    "            'ml_home': ml_home,\n",
    "            'ml_away': ml_away            \n",
    "            \n",
    "        }\n",
    "\n",
    "        #Get stats\n",
    "        home_team_stats_list=[dic for dic in team_stats_dicts if dic['TEAM_NAME']==home_team]\n",
    "        away_team_stats_list=[dic for dic in team_stats_dicts if dic['TEAM_NAME']==away_team]\n",
    "\n",
    "        #Filter for stats\n",
    "        home_team_stats_dict={k+'_HOME': v for k, v in home_team_stats_list[0].items() if k not in ['TEAM_ID', 'CFID', 'CFPARAMS']}\n",
    "        away_team_stats_dict={k+'_AWAY': v for k, v in away_team_stats_list[0].items() if k not in ['TEAM_ID', 'CFID', 'CFPARAMS']}\n",
    "\n",
    "        #Combine stats and odds\n",
    "        team_result_dict = {**team_info_dict, **home_team_stats_dict, **away_team_stats_dict}\n",
    "\n",
    "        todays_game_dicts.append(team_result_dict)\n",
    "\n",
    "    return todays_game_dicts"
   ]
  },
  {
   "cell_type": "code",
   "execution_count": 6,
   "metadata": {},
   "outputs": [],
   "source": [
    "def get_expected_values(pred_df):\n",
    "    \n",
    "    pred_dict = pred_df.to_dict(orient='records')\n",
    "    \n",
    "    for game in pred_dict:\n",
    "\n",
    "        Pwin_home = round(game['Score_W'],4)\n",
    "        Pwin_away = round(game['Score_L'],4)\n",
    "\n",
    "        odds_home = int(game['ml_home'])\n",
    "        odds_away = int(game['ml_away'])\n",
    "\n",
    "        home_team_ev = expected_value(Pwin_home, odds_home)\n",
    "        away_team_ev = expected_value(Pwin_away, odds_away)\n",
    "\n",
    "        game['home_team_ml_expected_value'] = home_team_ev\n",
    "        game['away_team_ml_expected_value'] = away_team_ev\n",
    "        \n",
    "    return pred_dict"
   ]
  },
  {
   "cell_type": "code",
   "execution_count": 7,
   "metadata": {},
   "outputs": [],
   "source": [
    "def predict(todays_game_dicts):\n",
    "    \n",
    "    pred_df = pd.DataFrame(todays_game_dicts)\n",
    "    pred_df.columns = pred_df.columns.str.lower()\n",
    "\n",
    "    #load models\n",
    "    win_loss_model = load_model('win_loss_acc_72')\n",
    "    ou_model = load_model('ou_cover_acc_56')\n",
    "    \n",
    "    #make predictions\n",
    "    win_loss_prediction_df = predict_model(win_loss_model, data = pred_df, raw_score = True)\n",
    "    ou_prediction_df = predict_model(ou_model, data = pred_df, raw_score = True)\n",
    "    \n",
    "    #Get ML expect values\n",
    "    win_loss_results = get_expected_values(win_loss_prediction_df)\n",
    "    ou_results = ou_prediction_df.to_dict(orient='records')\n",
    "    \n",
    "    return win_loss_results, ou_results"
   ]
  },
  {
   "cell_type": "code",
   "execution_count": 34,
   "metadata": {},
   "outputs": [],
   "source": [
    "def color_selection(home_value,away_value,method='greater_less'):\n",
    "    if method=='greater_less':\n",
    "        \n",
    "        if home_value>away_value:\n",
    "            home_color=Fore.GREEN\n",
    "            away_color=Fore.RED\n",
    "        else:\n",
    "            home_color=Fore.RED\n",
    "            away_color=Fore.GREEN\n",
    "            \n",
    "        return home_color,away_color\n",
    "    \n",
    "    elif method=='positive_negative':\n",
    "        \n",
    "        if home_value>0:\n",
    "            home_color=Fore.GREEN\n",
    "        else: \n",
    "            home_color=Fore.RED\n",
    "        if away_value>0:\n",
    "            away_color=Fore.GREEN\n",
    "        else: \n",
    "            away_color=Fore.RED\n",
    "        return home_color,away_color"
   ]
  },
  {
   "cell_type": "code",
   "execution_count": 42,
   "metadata": {},
   "outputs": [],
   "source": [
    "def print_results(win_loss_results, ou_results):\n",
    "    \n",
    "    for game in win_loss_results:\n",
    "        \n",
    "        date = game['date']\n",
    "        home_team = game['home']\n",
    "        away_team = game['away']\n",
    "        home_team_ml_odds = game['ml_home']\n",
    "        away_team_ml_odds = game['ml_away']\n",
    "        home_team_w_prob = round(game['Score_W']*100,4)\n",
    "        away_team_w_prob = round(game['Score_L']*100,4)\n",
    "        home_w_color,away_w_color=color_selection(home_team_w_prob,\n",
    "                                                  away_team_w_prob, \n",
    "                                                  method='greater_less')\n",
    "        \n",
    "        home_team_ml_expected_value = game['home_team_ml_expected_value']\n",
    "        away_team_ml_expected_value = game['away_team_ml_expected_value']\n",
    "        home_ev_color,away_ev_color=color_selection(home_team_ml_expected_value,\n",
    "                                                  away_team_ml_expected_value,\n",
    "                                                  method='positive_negative')\n",
    "        \n",
    "        ou_dict = [dic for dic in ou_results if dic['home']==home_team and dic['away']==away_team][0]\n",
    "        over = round(ou_dict['Score_Over']*100,4)\n",
    "        under = round(ou_dict['Score_Under']*100,4)\n",
    "        ou_color,under_color=color_selection(over,\n",
    "                                              under,\n",
    "                                              method='greater_less')\n",
    "\n",
    "        print(f'------ {date} [HOME] {Fore.BLUE }{home_team}{Style.RESET_ALL} vs. [AWAY] {Fore.MAGENTA}{away_team}{Style.RESET_ALL} ----')            \n",
    "        print(f'[ML ODDS]           {home_team} ( {home_team_ml_odds} ) | {away_team} ( {away_team_ml_odds} )')\n",
    "        print(f'[ML WIN CONFIDENCE] {home_team} ( {home_w_color}{home_team_w_prob}{Style.RESET_ALL} % ) | {away_team} ( {away_w_color}{away_team_w_prob}{Style.RESET_ALL} % )')\n",
    "        print(f'[ML EXPECTED VALUE] {home_team} ( {home_ev_color}${home_team_ml_expected_value}{Style.RESET_ALL}  ) | {away_team} ( {away_ev_color}${away_team_ml_expected_value}{Style.RESET_ALL}  )')\n",
    "        print(f'[OVER & UNDER]       OVER ( {ou_color}{over}{Style.RESET_ALL} % ) | UNDER ( {under_color}{under}{Style.RESET_ALL} % ) ')\n",
    "        print('')"
   ]
  },
  {
   "cell_type": "code",
   "execution_count": 9,
   "metadata": {},
   "outputs": [],
   "source": [
    "data = get_todays_games_json(todays_games_url)"
   ]
  },
  {
   "cell_type": "code",
   "execution_count": 10,
   "metadata": {},
   "outputs": [],
   "source": [
    "games = create_todays_games(data)"
   ]
  },
  {
   "cell_type": "code",
   "execution_count": 11,
   "metadata": {},
   "outputs": [],
   "source": [
    "team_stats = get_json_data(data_url)"
   ]
  },
  {
   "cell_type": "code",
   "execution_count": 12,
   "metadata": {},
   "outputs": [],
   "source": [
    "team_stats_df = to_data_frame(team_stats)"
   ]
  },
  {
   "cell_type": "code",
   "execution_count": 13,
   "metadata": {},
   "outputs": [
    {
     "name": "stdout",
     "output_type": "stream",
     "text": [
      "[HOME] Atlanta Hawks vs [AWAY] Milwaukee Bucks Over and Under : 232.5\n",
      "[HOME] Atlanta Hawks vs [AWAY] Milwaukee Bucks Spread : 5.5\n",
      "[HOME] Atlanta Hawks Money Line : 170\n",
      "[AWAY] Milwaukee Bucks Money Line : -200\n",
      "[HOME] Memphis Grizzlies vs [AWAY] Chicago Bulls Over and Under : 225.5\n",
      "[HOME] Memphis Grizzlies vs [AWAY] Chicago Bulls Spread : 8.5\n",
      "[HOME] Memphis Grizzlies Money Line : -350\n",
      "[AWAY] Chicago Bulls Money Line : 275\n",
      "[HOME] Orlando Magic vs [AWAY] Portland Trail Blazers Over and Under : 218.5\n",
      "[HOME] Orlando Magic vs [AWAY] Portland Trail Blazers Spread : 2.5\n",
      "[HOME] Orlando Magic Money Line : 115\n",
      "[AWAY] Portland Trail Blazers Money Line : -140\n",
      "[HOME] Los Angeles Lakers vs [AWAY] Utah Jazz Over and Under : 230.5\n",
      "[HOME] Los Angeles Lakers vs [AWAY] Utah Jazz Spread : 4.5\n",
      "[HOME] Los Angeles Lakers Money Line : 155\n",
      "[AWAY] Utah Jazz Money Line : -190\n",
      "[HOME] Miami Heat vs [AWAY] Toronto Raptors Over and Under : 207.5\n",
      "[HOME] Miami Heat vs [AWAY] Toronto Raptors Spread : 3.5\n",
      "[HOME] Miami Heat Money Line : -150\n",
      "[AWAY] Toronto Raptors Money Line : 125\n",
      "[HOME] Cleveland Cavaliers vs [AWAY] Brooklyn Nets Over and Under : 228.5\n",
      "[HOME] Cleveland Cavaliers vs [AWAY] Brooklyn Nets Spread : 3.5\n",
      "[HOME] Cleveland Cavaliers Money Line : -140\n",
      "[AWAY] Brooklyn Nets Money Line : 110\n",
      "[HOME] LA Clippers vs [AWAY] Indiana Pacers Over and Under : 210.5\n",
      "[HOME] LA Clippers vs [AWAY] Indiana Pacers Spread : 2\n",
      "[HOME] LA Clippers Money Line : -130\n",
      "[AWAY] Indiana Pacers Money Line : 110\n",
      "[HOME] San Antonio Spurs vs [AWAY] Phoenix Suns Over and Under : 227.5\n",
      "[HOME] San Antonio Spurs vs [AWAY] Phoenix Suns Spread : 3.5\n",
      "[HOME] San Antonio Spurs Money Line : 145\n",
      "[AWAY] Phoenix Suns Money Line : -165\n",
      "[HOME] New York Knicks vs [AWAY] Charlotte Hornets Over and Under : 220\n",
      "[HOME] New York Knicks vs [AWAY] Charlotte Hornets Spread : 114\n",
      "[HOME] New York Knicks Money Line : -133\n",
      "[AWAY] Charlotte Hornets Money Line : 144\n",
      "[HOME] Washington Wizards vs [AWAY] Philadelphia 76ers Over and Under : 221.5\n",
      "[HOME] Washington Wizards vs [AWAY] Philadelphia 76ers Spread : 8.5\n",
      "[HOME] Washington Wizards Money Line : -675\n",
      "[AWAY] Philadelphia 76ers Money Line : 425\n",
      "[HOME] Boston Celtics vs [AWAY] New Orleans Pelicans Over and Under : 230\n",
      "[HOME] Boston Celtics vs [AWAY] New Orleans Pelicans Spread : 4\n",
      "[HOME] Boston Celtics Money Line : 150\n",
      "[AWAY] New Orleans Pelicans Money Line : -150\n",
      "[HOME] Dallas Mavericks vs [AWAY] Oklahoma City Thunder Over and Under : 210\n",
      "[HOME] Dallas Mavericks vs [AWAY] Oklahoma City Thunder Spread : 11.5\n",
      "[HOME] Dallas Mavericks Money Line : -720\n",
      "[AWAY] Oklahoma City Thunder Money Line : 500\n"
     ]
    }
   ],
   "source": [
    "todays_game_dicts = createTodaysGames(games, team_stats_df)"
   ]
  },
  {
   "cell_type": "code",
   "execution_count": 14,
   "metadata": {},
   "outputs": [
    {
     "name": "stdout",
     "output_type": "stream",
     "text": [
      "Transformation Pipeline and Model Successfully Loaded\n",
      "Transformation Pipeline and Model Successfully Loaded\n"
     ]
    }
   ],
   "source": [
    "win_loss_results, ou_results = predict(todays_game_dicts)"
   ]
  },
  {
   "cell_type": "code",
   "execution_count": 43,
   "metadata": {},
   "outputs": [
    {
     "name": "stdout",
     "output_type": "stream",
     "text": [
      "------ 2022-01-17 [HOME] \u001b[34mAtlanta Hawks\u001b[0m vs. [AWAY] \u001b[35mMilwaukee Bucks\u001b[0m ----\n",
      "[ML ODDS]           Atlanta Hawks ( 170 ) | Milwaukee Bucks ( -200 )\n",
      "[ML WIN CONFIDENCE] Atlanta Hawks ( \u001b[31m32.28\u001b[0m % ) | Milwaukee Bucks ( \u001b[32m67.72\u001b[0m % )\n",
      "[ML EXPECTED VALUE] Atlanta Hawks ( \u001b[31m$-12.84\u001b[0m  ) | Milwaukee Bucks ( \u001b[32m$1.58\u001b[0m  )\n",
      "[OVER & UNDER]       OVER ( \u001b[31m28.56\u001b[0m % ) | UNDER ( \u001b[32m70.21\u001b[0m % ) \n",
      "\n",
      "------ 2022-01-17 [HOME] \u001b[34mMemphis Grizzlies\u001b[0m vs. [AWAY] \u001b[35mChicago Bulls\u001b[0m ----\n",
      "[ML ODDS]           Memphis Grizzlies ( -350 ) | Chicago Bulls ( 275 )\n",
      "[ML WIN CONFIDENCE] Memphis Grizzlies ( \u001b[32m70.83\u001b[0m % ) | Chicago Bulls ( \u001b[31m29.17\u001b[0m % )\n",
      "[ML EXPECTED VALUE] Memphis Grizzlies ( \u001b[31m$-8.93\u001b[0m  ) | Chicago Bulls ( \u001b[32m$9.39\u001b[0m  )\n",
      "[OVER & UNDER]       OVER ( \u001b[31m25.74\u001b[0m % ) | UNDER ( \u001b[32m71.09\u001b[0m % ) \n",
      "\n",
      "------ 2022-01-17 [HOME] \u001b[34mOrlando Magic\u001b[0m vs. [AWAY] \u001b[35mPortland Trail Blazers\u001b[0m ----\n",
      "[ML ODDS]           Orlando Magic ( 115 ) | Portland Trail Blazers ( -140 )\n",
      "[ML WIN CONFIDENCE] Orlando Magic ( \u001b[31m18.19\u001b[0m % ) | Portland Trail Blazers ( \u001b[32m81.81\u001b[0m % )\n",
      "[ML EXPECTED VALUE] Orlando Magic ( \u001b[31m$-60.89\u001b[0m  ) | Portland Trail Blazers ( \u001b[32m$40.25\u001b[0m  )\n",
      "[OVER & UNDER]       OVER ( \u001b[32m50.05\u001b[0m % ) | UNDER ( \u001b[31m49.37\u001b[0m % ) \n",
      "\n",
      "------ 2022-01-17 [HOME] \u001b[34mLos Angeles Lakers\u001b[0m vs. [AWAY] \u001b[35mUtah Jazz\u001b[0m ----\n",
      "[ML ODDS]           Los Angeles Lakers ( 155 ) | Utah Jazz ( -190 )\n",
      "[ML WIN CONFIDENCE] Los Angeles Lakers ( \u001b[31m30.76\u001b[0m % ) | Utah Jazz ( \u001b[32m69.24\u001b[0m % )\n",
      "[ML EXPECTED VALUE] Los Angeles Lakers ( \u001b[31m$-21.56\u001b[0m  ) | Utah Jazz ( \u001b[32m$5.68\u001b[0m  )\n",
      "[OVER & UNDER]       OVER ( \u001b[32m55.68\u001b[0m % ) | UNDER ( \u001b[31m43.81\u001b[0m % ) \n",
      "\n",
      "------ 2022-01-17 [HOME] \u001b[34mMiami Heat\u001b[0m vs. [AWAY] \u001b[35mToronto Raptors\u001b[0m ----\n",
      "[ML ODDS]           Miami Heat ( -150 ) | Toronto Raptors ( 125 )\n",
      "[ML WIN CONFIDENCE] Miami Heat ( \u001b[32m78.88\u001b[0m % ) | Toronto Raptors ( \u001b[31m21.12\u001b[0m % )\n",
      "[ML EXPECTED VALUE] Miami Heat ( \u001b[32m$31.47\u001b[0m  ) | Toronto Raptors ( \u001b[31m$-52.48\u001b[0m  )\n",
      "[OVER & UNDER]       OVER ( \u001b[32m64.32\u001b[0m % ) | UNDER ( \u001b[31m33.41\u001b[0m % ) \n",
      "\n",
      "------ 2022-01-17 [HOME] \u001b[34mCleveland Cavaliers\u001b[0m vs. [AWAY] \u001b[35mBrooklyn Nets\u001b[0m ----\n",
      "[ML ODDS]           Cleveland Cavaliers ( -140 ) | Brooklyn Nets ( 110 )\n",
      "[ML WIN CONFIDENCE] Cleveland Cavaliers ( \u001b[32m56.93\u001b[0m % ) | Brooklyn Nets ( \u001b[31m43.07\u001b[0m % )\n",
      "[ML EXPECTED VALUE] Cleveland Cavaliers ( \u001b[31m$-2.41\u001b[0m  ) | Brooklyn Nets ( \u001b[31m$-9.55\u001b[0m  )\n",
      "[OVER & UNDER]       OVER ( \u001b[31m19.64\u001b[0m % ) | UNDER ( \u001b[32m78.7\u001b[0m % ) \n",
      "\n",
      "------ 2022-01-17 [HOME] \u001b[34mLA Clippers\u001b[0m vs. [AWAY] \u001b[35mIndiana Pacers\u001b[0m ----\n",
      "[ML ODDS]           LA Clippers ( -130 ) | Indiana Pacers ( 110 )\n",
      "[ML WIN CONFIDENCE] LA Clippers ( \u001b[32m68.4\u001b[0m % ) | Indiana Pacers ( \u001b[31m31.6\u001b[0m % )\n",
      "[ML EXPECTED VALUE] LA Clippers ( \u001b[32m$21.02\u001b[0m  ) | Indiana Pacers ( \u001b[31m$-33.64\u001b[0m  )\n",
      "[OVER & UNDER]       OVER ( \u001b[32m54.1\u001b[0m % ) | UNDER ( \u001b[31m45.02\u001b[0m % ) \n",
      "\n",
      "------ 2022-01-17 [HOME] \u001b[34mSan Antonio Spurs\u001b[0m vs. [AWAY] \u001b[35mPhoenix Suns\u001b[0m ----\n",
      "[ML ODDS]           San Antonio Spurs ( 145 ) | Phoenix Suns ( -165 )\n",
      "[ML WIN CONFIDENCE] San Antonio Spurs ( \u001b[31m21.91\u001b[0m % ) | Phoenix Suns ( \u001b[32m78.09\u001b[0m % )\n",
      "[ML EXPECTED VALUE] San Antonio Spurs ( \u001b[31m$-46.32\u001b[0m  ) | Phoenix Suns ( \u001b[32m$25.42\u001b[0m  )\n",
      "[OVER & UNDER]       OVER ( \u001b[31m32.35\u001b[0m % ) | UNDER ( \u001b[32m60.81\u001b[0m % ) \n",
      "\n",
      "------ 2022-01-17 [HOME] \u001b[34mNew York Knicks\u001b[0m vs. [AWAY] \u001b[35mCharlotte Hornets\u001b[0m ----\n",
      "[ML ODDS]           New York Knicks ( -133 ) | Charlotte Hornets ( 144 )\n",
      "[ML WIN CONFIDENCE] New York Knicks ( \u001b[31m29.67\u001b[0m % ) | Charlotte Hornets ( \u001b[32m70.33\u001b[0m % )\n",
      "[ML EXPECTED VALUE] New York Knicks ( \u001b[31m$-48.02\u001b[0m  ) | Charlotte Hornets ( \u001b[32m$71.61\u001b[0m  )\n",
      "[OVER & UNDER]       OVER ( \u001b[31m47.07\u001b[0m % ) | UNDER ( \u001b[32m52.93\u001b[0m % ) \n",
      "\n",
      "------ 2022-01-17 [HOME] \u001b[34mWashington Wizards\u001b[0m vs. [AWAY] \u001b[35mPhiladelphia 76ers\u001b[0m ----\n",
      "[ML ODDS]           Washington Wizards ( -675 ) | Philadelphia 76ers ( 425 )\n",
      "[ML WIN CONFIDENCE] Washington Wizards ( \u001b[32m50.79\u001b[0m % ) | Philadelphia 76ers ( \u001b[31m49.21\u001b[0m % )\n",
      "[ML EXPECTED VALUE] Washington Wizards ( \u001b[31m$-41.69\u001b[0m  ) | Philadelphia 76ers ( \u001b[32m$158.35\u001b[0m  )\n",
      "[OVER & UNDER]       OVER ( \u001b[31m24.09\u001b[0m % ) | UNDER ( \u001b[32m75.46\u001b[0m % ) \n",
      "\n",
      "------ 2022-01-17 [HOME] \u001b[34mBoston Celtics\u001b[0m vs. [AWAY] \u001b[35mNew Orleans Pelicans\u001b[0m ----\n",
      "[ML ODDS]           Boston Celtics ( 150 ) | New Orleans Pelicans ( -150 )\n",
      "[ML WIN CONFIDENCE] Boston Celtics ( \u001b[32m73.46\u001b[0m % ) | New Orleans Pelicans ( \u001b[31m26.54\u001b[0m % )\n",
      "[ML EXPECTED VALUE] Boston Celtics ( \u001b[32m$83.65\u001b[0m  ) | New Orleans Pelicans ( \u001b[31m$-55.77\u001b[0m  )\n",
      "[OVER & UNDER]       OVER ( \u001b[31m17.1\u001b[0m % ) | UNDER ( \u001b[32m81.9\u001b[0m % ) \n",
      "\n",
      "------ 2022-01-17 [HOME] \u001b[34mDallas Mavericks\u001b[0m vs. [AWAY] \u001b[35mOklahoma City Thunder\u001b[0m ----\n",
      "[ML ODDS]           Dallas Mavericks ( -720 ) | Oklahoma City Thunder ( 500 )\n",
      "[ML WIN CONFIDENCE] Dallas Mavericks ( \u001b[32m82.03\u001b[0m % ) | Oklahoma City Thunder ( \u001b[31m17.97\u001b[0m % )\n",
      "[ML EXPECTED VALUE] Dallas Mavericks ( \u001b[31m$-6.58\u001b[0m  ) | Oklahoma City Thunder ( \u001b[32m$7.82\u001b[0m  )\n",
      "[OVER & UNDER]       OVER ( \u001b[31m27.97\u001b[0m % ) | UNDER ( \u001b[32m70.52\u001b[0m % ) \n",
      "\n"
     ]
    }
   ],
   "source": [
    "print_results(win_loss_results, ou_results)"
   ]
  },
  {
   "cell_type": "code",
   "execution_count": null,
   "metadata": {},
   "outputs": [],
   "source": []
  }
 ],
 "metadata": {
  "kernelspec": {
   "display_name": "experiment",
   "language": "python",
   "name": "mike"
  },
  "language_info": {
   "codemirror_mode": {
    "name": "ipython",
    "version": 3
   },
   "file_extension": ".py",
   "mimetype": "text/x-python",
   "name": "python",
   "nbconvert_exporter": "python",
   "pygments_lexer": "ipython3",
   "version": "3.7.6"
  }
 },
 "nbformat": 4,
 "nbformat_minor": 4
}
