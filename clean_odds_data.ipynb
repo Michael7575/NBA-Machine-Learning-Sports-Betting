{
 "cells": [
  {
   "cell_type": "code",
   "execution_count": 4,
   "metadata": {},
   "outputs": [],
   "source": [
    "import os\n",
    "import pandas as pd\n",
    "from tqdm import tqdm\n",
    "from src.Utils.Dictionaries import team_codes"
   ]
  },
  {
   "cell_type": "code",
   "execution_count": 3,
   "metadata": {},
   "outputs": [],
   "source": [
    "directory = 'Odds-Data'"
   ]
  },
  {
   "cell_type": "code",
   "execution_count": 6,
   "metadata": {},
   "outputs": [
    {
     "name": "stderr",
     "output_type": "stream",
     "text": [
      "100%|██████████████████████████████████████████████████████████████████████████████████| 16/16 [01:06<00:00,  4.14s/it]\n"
     ]
    }
   ],
   "source": [
    "for file in tqdm(os.listdir(directory)):\n",
    "    filename = os.fsdecode(file)\n",
    "    year = filename[9:-5]\n",
    "    if filename.endswith('.xlsx'):\n",
    "        df = pd.read_excel(f'Odds-Data/{filename}')\n",
    "        x = pd.DataFrame(columns=['Date', 'Home', 'Away', 'OU', 'Spread', 'ML_Home', 'ML_Away', 'Points', 'Win_Margin'])\n",
    "        count = 2\n",
    "        date = ''\n",
    "        home = ''\n",
    "        away = ''\n",
    "        ou = ''\n",
    "        spread = ''\n",
    "        ml_home = ''\n",
    "        ml_away = ''\n",
    "        points = ''\n",
    "        margin = ''\n",
    "        for row in df.itertuples():\n",
    "            if count % 2 == 0:\n",
    "                if len(str(row[1])) == 3:\n",
    "                    date = str(year + '-' + '0' + str(row[1]))\n",
    "                else:\n",
    "                    date = str(year + '-' + str(row[1]))\n",
    "                away = team_codes.get(str(row[4]))\n",
    "                if row[10] == 'pk':\n",
    "                    ou = 0\n",
    "                else:\n",
    "                    ou = row[10]\n",
    "                points = row[9]\n",
    "                ml_away = str(row[12])\n",
    "                count += 1\n",
    "            else:\n",
    "                home = team_codes.get(str(row[4]))\n",
    "                if row[10] == 'pk':\n",
    "                    spread = 0\n",
    "                else:\n",
    "                    spread = row[10]\n",
    "                if spread > 50:\n",
    "                    temp = spread\n",
    "                    spread = ou\n",
    "                    ou = temp\n",
    "                ml_home = str(row[12])\n",
    "                margin = row[9] - points\n",
    "                points += row[9]\n",
    "                temp = {\n",
    "                    'Date': date,\n",
    "                    'Home': home,\n",
    "                    'Away': away,\n",
    "                    'OU': ou,\n",
    "                    'Spread': spread,\n",
    "                    'ML_Home': ml_home,\n",
    "                    'ML_Away': ml_away,\n",
    "                    'Points': points,\n",
    "                    'Win_Margin': margin\n",
    "                }\n",
    "                x = x.append(temp, ignore_index=True)\n",
    "                count += 1\n",
    "                date = ''\n",
    "                home = ''\n",
    "                away = ''\n",
    "                ou = ''\n",
    "                spread = ''\n",
    "                ml_home = ''\n",
    "                ml_away = ''\n",
    "                points = ''\n",
    "                margin = ''\n",
    "        directory2 = 'Odds-Data/Odds-Data-Clean'\n",
    "        name = directory2 + '/' + year + '.xlsx'\n",
    "        x.to_excel(name)"
   ]
  },
  {
   "cell_type": "code",
   "execution_count": null,
   "metadata": {},
   "outputs": [],
   "source": []
  }
 ],
 "metadata": {
  "kernelspec": {
   "display_name": "mike",
   "language": "python",
   "name": "mike"
  },
  "language_info": {
   "codemirror_mode": {
    "name": "ipython",
    "version": 3
   },
   "file_extension": ".py",
   "mimetype": "text/x-python",
   "name": "python",
   "nbconvert_exporter": "python",
   "pygments_lexer": "ipython3",
   "version": "3.7.6"
  }
 },
 "nbformat": 4,
 "nbformat_minor": 4
}
