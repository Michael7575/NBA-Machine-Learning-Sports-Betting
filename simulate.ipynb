{
 "cells": [
  {
   "cell_type": "code",
   "execution_count": 12,
   "metadata": {},
   "outputs": [],
   "source": [
    "import pandas as pd\n",
    "\n",
    "from pycaret.classification import *\n",
    "from src.Utils.tools import *"
   ]
  },
  {
   "cell_type": "code",
   "execution_count": 13,
   "metadata": {},
   "outputs": [
    {
     "name": "stdout",
     "output_type": "stream",
     "text": [
      "The autoreload extension is already loaded. To reload it, use:\n",
      "  %reload_ext autoreload\n"
     ]
    }
   ],
   "source": [
    "%load_ext autoreload\n",
    "%autoreload 2"
   ]
  },
  {
   "cell_type": "code",
   "execution_count": 8,
   "metadata": {},
   "outputs": [],
   "source": [
    "raw_df = pd.read_csv('Datasets/Full-Data-Set-UnderOver-2021-22.csv')"
   ]
  },
  {
   "cell_type": "code",
   "execution_count": 14,
   "metadata": {},
   "outputs": [],
   "source": [
    "pp_df = clean_train_data(raw_df)"
   ]
  },
  {
   "cell_type": "code",
   "execution_count": 18,
   "metadata": {},
   "outputs": [
    {
     "name": "stdout",
     "output_type": "stream",
     "text": [
      "Transformation Pipeline and Model Successfully Loaded\n",
      "Transformation Pipeline and Model Successfully Loaded\n"
     ]
    }
   ],
   "source": [
    "win_loss_results, ou_results = predict(pp_df)"
   ]
  },
  {
   "cell_type": "code",
   "execution_count": 125,
   "metadata": {},
   "outputs": [],
   "source": [
    "def simulate_betting(dic_result,start_date=None,start_out_amount=0,amount_per_bet=10,home_win_threshold=0.5):\n",
    "    \n",
    "    init_amount=start_out_amount\n",
    "    \n",
    "    if start_date:\n",
    "        dic_result = [dic for dic in dic_result if dic['date'] >= start_date]\n",
    "    \n",
    "    dic_result.sort(key = lambda x:x['date'])\n",
    "\n",
    "    for game in dic_result:\n",
    "\n",
    "        home = game['home']\n",
    "        away = game['away']\n",
    "\n",
    "        prob_home_win = game['Score_W']\n",
    "        prob_away_win = game['Score_L']\n",
    "\n",
    "        ev_home = game['home_team_ml_expected_value']\n",
    "        ev_away = game['away_team_ml_expected_value']\n",
    "\n",
    "        ml_home = game['ml_home']\n",
    "        ml_away = game['ml_away']\n",
    "\n",
    "        actual_wl = game['home-team-win']\n",
    "\n",
    "        # Determine which team to bet\n",
    "        if prob_home_win > prob_away_win:\n",
    "\n",
    "            bet_team = home\n",
    "            bet_prob = prob_home_win\n",
    "        else:\n",
    "\n",
    "            bet_team = away\n",
    "            bet_prob = prob_away_win\n",
    "\n",
    "        # Determine if team betting meets prob threshold\n",
    "        if bet_prob >= home_win_threshold:\n",
    "\n",
    "            # Win if bet team is the home team home team wins\n",
    "            if bet_team == home and actual_wl == 'W':\n",
    "\n",
    "                ml = ml_home\n",
    "                bet_result = 'Win'\n",
    "\n",
    "            # Win if bet team is away the home team loses\n",
    "            elif bet_team == away and actual_wl == 'L':\n",
    "\n",
    "                ml = ml_away\n",
    "                bet_result = 'Win'\n",
    "\n",
    "            else:\n",
    "\n",
    "                bet_result = 'Loss'\n",
    "\n",
    "            # If win, decided on win amount\n",
    "            if bet_result == 'Win':\n",
    "\n",
    "                if ml < 0:\n",
    "\n",
    "                    win_pct = amount_per_bet/(abs(ml))\n",
    "\n",
    "                    win_amount = amount_per_bet * win_pct\n",
    "\n",
    "                    start_out_amount += win_amount\n",
    "\n",
    "                else:\n",
    "\n",
    "                    start_out_amount += ml\n",
    "\n",
    "            # If loss, decide on loss amount\n",
    "            else:\n",
    "\n",
    "                start_out_amount -= amount_per_bet\n",
    "        else:\n",
    "\n",
    "            bet_result = 'No bets'\n",
    "\n",
    "        game['bet_prob'] = bet_prob\n",
    "        game['bet_team'] = bet_team\n",
    "        game['bet_result'] = bet_result\n",
    "        game['bet_balance'] = start_out_amount  \n",
    "    \n",
    "    wins = pd.DataFrame(dic_result)['bet_result'].value_counts()['Win']\n",
    "\n",
    "    loss = pd.DataFrame(dic_result)['bet_result'].value_counts()['Loss']\n",
    "\n",
    "    no_bets = pd.DataFrame(dic_result)['bet_result'].value_counts()['No bets']\n",
    "    \n",
    "    win_pct = round(wins/(wins+loss)*100,2)\n",
    "    final_winnings = dic_result[-1]['bet_balance']\n",
    "    winning_difference = round(float(final_winnings)-init_amount,2)\n",
    "    total_days = (datetime.strptime(dic_result[-1]['date'], '%Y-%m-%d') - datetime.strptime(dic_result[0]['date'], '%Y-%m-%d')).days\n",
    "    total_investment = amount_per_bet*(wins+loss)\n",
    "    investment_per_day = round(total_investment/total_days,2)\n",
    "    investment_per_month = round(investment_per_day * 30,2)\n",
    "    bet_per_day = round((wins+loss)/total_days)\n",
    "    \n",
    "    print(f'Win Percentage: {win_pct}%')\n",
    "    print(f'Balance Difference: ${winning_difference}')\n",
    "    print(f'Bet per day: {bet_per_day}')\n",
    "    print(f'Investment per day: ${investment_per_day}')\n",
    "    print(f'Investment per month: ${investment_per_month}')\n",
    "    pd.DataFrame(dic_result).plot(x='date',y='bet_balance')\n",
    "        \n",
    "    return dic_result"
   ]
  },
  {
   "cell_type": "code",
   "execution_count": 126,
   "metadata": {},
   "outputs": [
    {
     "name": "stdout",
     "output_type": "stream",
     "text": [
      "Win Percentage: 81.45%\n",
      "Balance Difference: $33630.63\n",
      "Bet per day: 1\n",
      "Investment per day: $6.84\n",
      "Investment per month: $205.2\n"
     ]
    },
    {
     "data": {
      "image/png": "[encoded data removed]",
      "text/plain": [
       "<Figure size 576x396 with 1 Axes>"
      ]
     },
     "metadata": {},
     "output_type": "display_data"
    }
   ],
   "source": [
    "result_dict=simulate_betting(win_loss_results,\n",
    "#                              start_date= '2020-1-1',\n",
    "                             start_out_amount=0,\n",
    "                             amount_per_bet=5,\n",
    "                             home_win_threshold=0.7)"
   ]
  },
  {
   "cell_type": "code",
   "execution_count": null,
   "metadata": {},
   "outputs": [],
   "source": []
  }
 ],
 "metadata": {
  "kernelspec": {
   "display_name": "experiment",
   "language": "python",
   "name": "mike"
  },
  "language_info": {
   "codemirror_mode": {
    "name": "ipython",
    "version": 3
   },
   "file_extension": ".py",
   "mimetype": "text/x-python",
   "name": "python",
   "nbconvert_exporter": "python",
   "pygments_lexer": "ipython3",
   "version": "3.7.6"
  }
 },
 "nbformat": 4,
 "nbformat_minor": 4
}
